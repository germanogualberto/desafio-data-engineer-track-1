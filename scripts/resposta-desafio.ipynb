{
 "cells": [
  {
   "cell_type": "markdown",
   "id": "e09a8e64-369d-4251-87fa-aa6a1ec70c43",
   "metadata": {
    "jp-MarkdownHeadingCollapsed": true
   },
   "source": [
    "# Configuração da API OpenWeatherMap\n",
    "\n",
    "Para utilizar este projeto, você precisa de uma chave de API do OpenWeatherMap. Siga os passos abaixo:\n",
    "\n",
    "---\n",
    "\n",
    "## 1. Crie uma conta\n",
    "\n",
    "Acesse o link de cadastro:  \n",
    "🔗 [https://home.openweathermap.org/users/sign_up](https://home.openweathermap.org/users/sign_up)\n",
    "\n",
    "---\n",
    "\n",
    "## 2. Complete o registro\n",
    "\n",
    "- Preencha seu nome, e-mail e senha  \n",
    "- Aceite os Termos de Serviço  \n",
    "- Clique em **Create Account**\n",
    "\n",
    "---\n",
    "\n",
    "## 3. Obtenha sua chave API\n",
    "\n",
    "Após fazer login:  \n",
    "1. Acesse o [Painel de API Keys](https://home.openweathermap.org/api_keys)  \n",
    "2. Clique em **Generate** para criar uma nova chave  \n",
    "3. Aguarde alguns minutos para a chave ativar\n",
    "\n",
    "---\n",
    "\n",
    "## 4. Configure no projeto\n",
    "\n",
    "Adicione sua chave no arquivo `.env` do projeto:\n",
    "\n",
    "## 5. URL API \n",
    "url = f\"https://api.openweathermap.org/data/2.5/weather?q={city},{country}&appid={api_key}&units=metric&lang=pt_br\"\n"
   ]
  },
  {
   "cell_type": "markdown",
   "id": "010b169b-5966-4893-afc4-a06cbee1a00d",
   "metadata": {},
   "source": [
    "# Desafio Técnico"
   ]
  },
  {
   "cell_type": "markdown",
   "id": "0cf15042-cd64-4e4e-b733-8116ca1c6f9f",
   "metadata": {},
   "source": [
    "\n",
    "## 1. ETL - Extração de Dados da OpenWeatherMap\n",
    "Cidades:\n",
    "CITIES = [\n",
    "    (\"São Paulo\", \"BR\"),\n",
    "    (\"Rio de Janeiro\", \"BR\"),\n",
    "    (\"New York\", \"US\"),\n",
    "    (\"Tokyo\", \"JP\"),\n",
    "    (\"London\", \"GB\")\n",
    "]\n",
    "Campos obrigatórios na saída:\n",
    "\n",
    "\n"
   ]
  },
  {
   "cell_type": "code",
   "execution_count": null,
   "id": "3cb7280c-1649-499b-abd3-0988facec01b",
   "metadata": {},
   "outputs": [
    {
     "name": "stdout",
     "output_type": "stream",
     "text": [
      "coord | {'lon': -46.6361, 'lat': -23.5475}\n",
      "weather | [{'id': 800, 'main': 'Clear', 'description': 'céu limpo', 'icon': '01d'}]\n",
      "base | stations\n",
      "main | {'temp': 27.16, 'feels_like': 26.93, 'temp_min': 26.75, 'temp_max': 28.2, 'pressure': 1018, 'humidity': 39, 'sea_level': 1018, 'grnd_level': 928}\n",
      "visibility | 10000\n",
      "wind | {'speed': 2.68, 'deg': 111, 'gust': 3.13}\n",
      "clouds | {'all': 0}\n",
      "dt | 1756925100\n",
      "sys | {'type': 1, 'id': 8394, 'country': 'BR', 'sunrise': 1756890927, 'sunset': 1756933001}\n",
      "timezone | -10800\n",
      "id | 3448439\n",
      "name | São Paulo\n",
      "cod | 200\n",
      "##############################\n",
      "\n",
      "coord | {'lon': -43.2075, 'lat': -22.9028}\n",
      "weather | [{'id': 800, 'main': 'Clear', 'description': 'céu limpo', 'icon': '01d'}]\n",
      "base | stations\n",
      "main | {'temp': 29.42, 'feels_like': 29.25, 'temp_min': 28.12, 'temp_max': 29.97, 'pressure': 1019, 'humidity': 42, 'sea_level': 1019, 'grnd_level': 1021}\n",
      "visibility | 10000\n",
      "wind | {'speed': 4.12, 'deg': 40}\n",
      "clouds | {'all': 0}\n",
      "dt | 1756925310\n",
      "sys | {'type': 2, 'id': 2036992, 'country': 'BR', 'sunrise': 1756890082, 'sunset': 1756932200}\n",
      "timezone | -10800\n",
      "id | 3451190\n",
      "name | Rio de Janeiro\n",
      "cod | 200\n",
      "##############################\n",
      "\n",
      "coord | {'lon': -74.006, 'lat': 40.7143}\n",
      "weather | [{'id': 801, 'main': 'Clouds', 'description': 'algumas nuvens', 'icon': '02d'}]\n",
      "base | stations\n",
      "main | {'temp': 25.22, 'feels_like': 25.08, 'temp_min': 23.86, 'temp_max': 26.78, 'pressure': 1013, 'humidity': 49, 'sea_level': 1013, 'grnd_level': 1011}\n",
      "visibility | 10000\n",
      "wind | {'speed': 4.92, 'deg': 86, 'gust': 7.6}\n",
      "clouds | {'all': 20}\n",
      "dt | 1756925230\n",
      "sys | {'type': 1, 'id': 4610, 'country': 'US', 'sunrise': 1756895122, 'sunset': 1756941941}\n",
      "timezone | -14400\n",
      "id | 5128581\n",
      "name | New York\n",
      "cod | 200\n",
      "##############################\n",
      "\n",
      "coord | {'lon': 139.6917, 'lat': 35.6895}\n",
      "weather | [{'id': 803, 'main': 'Clouds', 'description': 'nublado', 'icon': '04n'}]\n",
      "base | stations\n",
      "main | {'temp': 27.36, 'feels_like': 30.91, 'temp_min': 26.45, 'temp_max': 27.79, 'pressure': 1013, 'humidity': 83, 'sea_level': 1013, 'grnd_level': 1011}\n",
      "visibility | 10000\n",
      "wind | {'speed': 3.09, 'deg': 290}\n",
      "clouds | {'all': 75}\n",
      "dt | 1756925275\n",
      "sys | {'type': 2, 'id': 268395, 'country': 'JP', 'sunrise': 1756930527, 'sunset': 1756976744}\n",
      "timezone | 32400\n",
      "id | 1850144\n",
      "name | Tokyo\n",
      "cod | 200\n",
      "##############################\n",
      "\n",
      "coord | {'lon': -0.1257, 'lat': 51.5085}\n",
      "weather | [{'id': 802, 'main': 'Clouds', 'description': 'nuvens dispersas', 'icon': '03n'}]\n",
      "base | stations\n",
      "main | {'temp': 17.06, 'feels_like': 17.09, 'temp_min': 16.06, 'temp_max': 18.34, 'pressure': 999, 'humidity': 87, 'sea_level': 999, 'grnd_level': 996}\n",
      "visibility | 10000\n",
      "wind | {'speed': 5.14, 'deg': 240}\n",
      "clouds | {'all': 40}\n",
      "dt | 1756925311\n",
      "sys | {'type': 2, 'id': 2075535, 'country': 'GB', 'sunrise': 1756876593, 'sunset': 1756925015}\n",
      "timezone | 3600\n",
      "id | 2643743\n",
      "name | London\n",
      "cod | 200\n",
      "##############################\n",
      "\n"
     ]
    }
   ],
   "source": [
    "import requests\n",
    "import datetime\n",
    "import json\n",
    "\n",
    "def get_city_weather_info(city,country):\n",
    "    url = f\"https://api.openweathermap.org/data/2.5/weather?q={city},{country}&appid={API_KEY}&units=metric&lang=pt_br\"\n",
    "\n",
    "    #carregar dados da cidade\n",
    "    r = requests.get(url)\n",
    "\n",
    "    if r.status_code != 200:\n",
    "        print(f\"Erro ao acessar API. Cidade: {city}\")\n",
    "    \n",
    "    return r.json()\n",
    "\n",
    "def print_city_weather_info(city_weather_info):\n",
    "    #print(city_weather_info)\n",
    "    for key,value in city_weather_info.items():\n",
    "        print(f\"{key} | {value}\")\n",
    "        #print(value)\n",
    "    print(f\"{'#'*30}\\n\")\n",
    "\n",
    "    \n",
    "API_KEY = \"2f30892906d2f728b5ba61d28a426e84\"\n",
    "CITIES = [ (\"São Paulo\", \"BR\"), (\"Rio de Janeiro\", \"BR\"), (\"New York\", \"US\"), (\"Tokyo\", \"JP\"), (\"London\", \"GB\") ] \n",
    "CITIES_DATA = []\n",
    "\n",
    "#carregar dados das cidade\n",
    "for city_info in CITIES:\n",
    "    city_weather_info = get_city_weather_info(*city_info)\n",
    "\n",
    "    #Exibir info da cidade no console\n",
    "    print_city_weather_info(city_weather_info)\n",
    "    \n",
    "    #adicionar dados da cidade em lista\n",
    "    CITIES_DATA.append(city_weather_info)\n",
    "\n",
    "#print(CITIES_DATA)"
   ]
  },
  {
   "cell_type": "markdown",
   "id": "b583ce92-f9a9-493a-aced-cb6ab7e3c71c",
   "metadata": {},
   "source": [
    "## 2. Armazenamento em Camada RAW\n",
    "Formato: Parquet\n",
    "Local: data/raw/openweather/\n",
    "\n"
   ]
  },
  {
   "cell_type": "code",
   "execution_count": 10,
   "id": "026de3c9-7ae6-4e99-baab-5284fa9b8899",
   "metadata": {},
   "outputs": [
    {
     "name": "stdout",
     "output_type": "stream",
     "text": [
      "{'coord': {'lon': -46.6361, 'lat': -23.5475}, 'weather': [{'id': 800, 'main': 'Clear', 'description': 'céu limpo', 'icon': '01d'}], 'base': 'stations', 'main': {'temp': 27.23, 'feels_like': 27.32, 'temp_min': 26.75, 'temp_max': 27.94, 'pressure': 1019, 'humidity': 45, 'sea_level': 1019, 'grnd_level': 929}, 'visibility': 10000, 'wind': {'speed': 4.12, 'deg': 110}, 'clouds': {'all': 0}, 'dt': 1756920801, 'sys': {'type': 1, 'id': 8394, 'country': 'BR', 'sunrise': 1756890927, 'sunset': 1756933001}, 'timezone': -10800, 'id': 3448439, 'name': 'São Paulo', 'cod': 200}\n"
     ]
    }
   ],
   "source": [
    "print(r.json())"
   ]
  },
  {
   "cell_type": "markdown",
   "id": "11aa696a-ef67-487b-a007-c762ead6dfd9",
   "metadata": {},
   "source": [
    "## 3. Persistência em PostgreSQL\n",
    "Criar tabela weather_data com estrutura correspondente aos campos extraídos\n"
   ]
  },
  {
   "cell_type": "markdown",
   "id": "198a37ee-3e2c-475d-af2e-cfb84b9dfbc9",
   "metadata": {},
   "source": [
    "## 4. Acesso ao MongoDB - Credenciais fornecidas pelo Cristiano Cloud Atlas\n",
    "Database: desafio_dataengenieer\n",
    "Collection: reviews"
   ]
  },
  {
   "cell_type": "markdown",
   "id": "c6d7ad65-b870-4b9d-b42b-71a1cabf4bf8",
   "metadata": {},
   "source": [
    "## 5. Exportação MongoDB para Parquet datalake(Minio)\n",
    "Salvar dados da collection reviews em:\n",
    "minio://bucket-name/raw/mongodb/reviews.parquet\n"
   ]
  },
  {
   "cell_type": "markdown",
   "id": "d27c21d0-3ab8-41c3-9c17-13735cd01d48",
   "metadata": {},
   "source": [
    "## 6. Geração de Nuvem de Palavras\n",
    "Processar coluna \"Review\" dos dados do MongoDB\n",
    "Utilizar algoritmo Python para contagem de palavras\n",
    "\n"
   ]
  },
  {
   "cell_type": "markdown",
   "id": "5a1ec8ea-8996-4e1e-be9b-c00c6936aff2",
   "metadata": {},
   "source": [
    "## 7. Armazenamento da Nuvem de Palavras\n",
    "Collection: desenvolvedor_nuvem_palavras\n",
    "Estrutura:\n",
    "json\n",
    "{\n",
    "  \"word\": \"exemplo\",\n",
    "  \"count\": 15\n",
    "}\n"
   ]
  },
  {
   "cell_type": "markdown",
   "id": "ccb02e09-443e-463c-81e1-33a0a687ab92",
   "metadata": {},
   "source": [
    "## 8. Processamento de Arquivo CSV\n",
    "Arquivo: social_media_engagement.csv\n",
    "Ações:\n",
    "\n",
    "Ler arquivo CSV usando Pandas\n",
    "\n",
    "Imprimir conteúdo no console\n",
    "\n",
    "Salvar em formato Parquet no MinIO:\n",
    "\n",
    "minio://bucket-name/raw/social_media.parquet"
   ]
  }
 ],
 "metadata": {
  "kernelspec": {
   "display_name": "Python 3 (ipykernel)",
   "language": "python",
   "name": "python3"
  },
  "language_info": {
   "codemirror_mode": {
    "name": "ipython",
    "version": 3
   },
   "file_extension": ".py",
   "mimetype": "text/x-python",
   "name": "python",
   "nbconvert_exporter": "python",
   "pygments_lexer": "ipython3",
   "version": "3.11.4"
  }
 },
 "nbformat": 4,
 "nbformat_minor": 5
}
